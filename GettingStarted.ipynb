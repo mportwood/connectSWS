{
 "cells": [
  {
   "cell_type": "markdown",
   "metadata": {},
   "source": [
    "# Connect to SWS with an Access Token\n",
    "\n",
    "This notebook demonstrates how to connect to the UW Student Web Service using an access token. The example below is specific to connecting to SWS with Python and a Jupyter Notebook, but the steps should translate to other languages. "
   ]
  },
  {
   "cell_type": "markdown",
   "metadata": {},
   "source": [
    "Before you begin you need to request an access token. To get one write the Enterprise Web Services team at help@uw.edu. Describe your use case, and they will help you get started. \n",
    "\n",
    "Once you have the token, save it in a separate .py file and add the file name your gitignore file. "
   ]
  },
  {
   "cell_type": "code",
   "execution_count": 7,
   "metadata": {},
   "outputs": [],
   "source": [
    "from apiKey import api_token\n",
    "\n",
    "##Confirm api_token import\n",
    "# print(len(api_token))"
   ]
  },
  {
   "cell_type": "markdown",
   "metadata": {},
   "source": [
    "Since you are using an access token, the token is required to be attached in the request header and sent with each request.  \n",
    "\n",
    "To learn more about setting up headers read the [Authentication Documentation](http://docs.python-requests.org/en/master/user/authentication/)"
   ]
  },
  {
   "cell_type": "code",
   "execution_count": 8,
   "metadata": {},
   "outputs": [],
   "source": [
    "headers = {'Authorization': 'Bearer ' + api_token}"
   ]
  },
  {
   "cell_type": "markdown",
   "metadata": {},
   "source": [
    "Now you can set up your variables for the API Call"
   ]
  },
  {
   "cell_type": "code",
   "execution_count": 9,
   "metadata": {},
   "outputs": [],
   "source": [
    "#Create Year/Qtr variables to set the resource query parameters\n",
    "year = 2019\n",
    "qtr = 1"
   ]
  },
  {
   "cell_type": "code",
   "execution_count": 10,
   "metadata": {},
   "outputs": [],
   "source": [
    "##Import the requests library for making API calls. \n",
    "import requests\n",
    "\n",
    "#Set up your call to the SWS URI\n",
    "base_uri = 'https://wseval.s.uw.edu/student/v5/'\n",
    "resource = 'course.json'\n",
    "query_params = {'year':year, 'quarter': qtr}"
   ]
  },
  {
   "cell_type": "markdown",
   "metadata": {},
   "source": [
    "Now, you're ready to make your call"
   ]
  },
  {
   "cell_type": "code",
   "execution_count": 11,
   "metadata": {},
   "outputs": [],
   "source": [
    "response = requests.get(base_uri + resource, params = query_params, headers = headers)"
   ]
  },
  {
   "cell_type": "code",
   "execution_count": 12,
   "metadata": {},
   "outputs": [],
   "source": [
    "data = response.json()"
   ]
  },
  {
   "cell_type": "code",
   "execution_count": 13,
   "metadata": {},
   "outputs": [
    {
     "data": {
      "text/plain": [
       "dict_keys(['Courses', 'Current', 'Next', 'PageSize', 'PageStart', 'Previous', 'TotalCount'])"
      ]
     },
     "execution_count": 13,
     "metadata": {},
     "output_type": "execute_result"
    }
   ],
   "source": [
    "data.keys()"
   ]
  },
  {
   "cell_type": "code",
   "execution_count": 14,
   "metadata": {},
   "outputs": [
    {
     "data": {
      "text/plain": [
       "dict"
      ]
     },
     "execution_count": 14,
     "metadata": {},
     "output_type": "execute_result"
    }
   ],
   "source": [
    "type(data)"
   ]
  },
  {
   "cell_type": "code",
   "execution_count": 15,
   "metadata": {},
   "outputs": [
    {
     "data": {
      "text/plain": [
       "dict_keys(['Courses', 'Current', 'Next', 'PageSize', 'PageStart', 'Previous', 'TotalCount'])"
      ]
     },
     "execution_count": 15,
     "metadata": {},
     "output_type": "execute_result"
    }
   ],
   "source": [
    "data.keys()"
   ]
  },
  {
   "cell_type": "code",
   "execution_count": 16,
   "metadata": {},
   "outputs": [
    {
     "name": "stdout",
     "output_type": "stream",
     "text": [
      "In 2019 Winter Quarter, the total number of courses offered was 19144 courses\n"
     ]
    }
   ],
   "source": [
    "course_count = data[\"TotalCount\"]\n",
    "print('In 2019 Winter Quarter, the total number of courses offered was', course_count, 'courses')"
   ]
  }
 ],
 "metadata": {
  "kernelspec": {
   "display_name": "Python 3",
   "language": "python",
   "name": "python3"
  },
  "language_info": {
   "codemirror_mode": {
    "name": "ipython",
    "version": 3
   },
   "file_extension": ".py",
   "mimetype": "text/x-python",
   "name": "python",
   "nbconvert_exporter": "python",
   "pygments_lexer": "ipython3",
   "version": "3.7.1"
  }
 },
 "nbformat": 4,
 "nbformat_minor": 2
}
